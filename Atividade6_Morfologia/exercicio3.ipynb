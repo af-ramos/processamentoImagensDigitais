{
 "cells": [
  {
   "cell_type": "code",
   "execution_count": 7,
   "metadata": {},
   "outputs": [],
   "source": [
    "import numpy as np\n",
    "import cv2\n",
    "import matplotlib.pyplot as plt\n",
    "import os\n",
    "\n",
    "FILES_DIR = os.path.abspath('images')"
   ]
  },
  {
   "cell_type": "code",
   "execution_count": 8,
   "metadata": {},
   "outputs": [],
   "source": [
    "def erosion(image, element):\n",
    "    result = np.copy(image)\n",
    "\n",
    "    imageY, imageX = image.shape\n",
    "    elementY, elementX = len(element), len(element[0])\n",
    "\n",
    "    centerY, centerX = elementY // 2, elementX // 2\n",
    "    maxLevel = np.max(element)\n",
    "\n",
    "    for i in range(imageX):\n",
    "        for j in range(imageY):\n",
    "            minimal = 255\n",
    "\n",
    "            for k in range(-centerX, centerX + 1):\n",
    "                for l in range(-centerY, centerY + 1):\n",
    "                    if i + k < 0 or i + k >= imageX:\n",
    "                        continue\n",
    "                    if j + l < 0 or j + l >= imageY:\n",
    "                        continue\n",
    "                    \n",
    "                    if element[l + centerY][k + centerX] == maxLevel:\n",
    "                        minimal = min(minimal, image[j + l][i + k])\n",
    "\n",
    "            result[j][i] = minimal\n",
    "\n",
    "    return result\n",
    "\n",
    "def dilation(image, element):\n",
    "    result = np.copy(image)\n",
    "\n",
    "    imageY, imageX = image.shape\n",
    "    elementY, elementX = len(element), len(element[0])\n",
    "\n",
    "    centerY, centerX = elementY // 2, elementX // 2\n",
    "    maxLevel = np.max(element)\n",
    "\n",
    "    for i in range(imageX):\n",
    "        for j in range(imageY):\n",
    "            maximum = 0\n",
    "\n",
    "            for k in range(-centerX, centerX + 1):\n",
    "                for l in range(-centerY, centerY + 1):\n",
    "                    if i + k < 0 or i + k >= imageX:\n",
    "                        continue\n",
    "                    if j + l < 0 or j + l >= imageY:\n",
    "                        continue\n",
    "                    \n",
    "                    if element[l + centerY][k + centerX] == maxLevel:\n",
    "                        maximum = max(maximum, image[j + l][i + k])\n",
    "\n",
    "            result[j][i] = maximum\n",
    "\n",
    "    return result\n",
    "\n",
    "def opening(image, element):\n",
    "    erosionImage = erosion(image, element)\n",
    "    dilationImage = dilation(erosionImage, element)\n",
    "\n",
    "    return dilationImage\n",
    "\n",
    "def showImage(image):\n",
    "    plt.imshow(cv2.cvtColor(image, cv2.COLOR_BGR2RGB))\n",
    "    plt.axis('off')\n",
    "    plt.show()\n",
    "\n",
    "def showSaveImage(image, imageName):\n",
    "    showImage(image)\n",
    "    cv2.imwrite(f'{FILES_DIR}/morph/exercicio3/{imageName}_opening.bmp', image)"
   ]
  },
  {
   "cell_type": "code",
   "execution_count": 9,
   "metadata": {},
   "outputs": [
    {
     "name": "stdout",
     "output_type": "stream",
     "text": [
      "Imagem \"imageC\" Original:\n"
     ]
    },
    {
     "data": {
      "image/png": "[encoded data removed]",
      "text/plain": [
       "<Figure size 640x480 with 1 Axes>"
      ]
     },
     "metadata": {},
     "output_type": "display_data"
    },
    {
     "name": "stdout",
     "output_type": "stream",
     "text": [
      "Abertura da Imagem \"imageC\" com Elemento Estruturante [[1, 1, 1, 1, 1, 1, 1, 1, 1, 1, 1, 1, 1]]:\n"
     ]
    },
    {
     "data": {
      "image/png": "[encoded data removed]",
      "text/plain": [
       "<Figure size 640x480 with 1 Axes>"
      ]
     },
     "metadata": {},
     "output_type": "display_data"
    }
   ],
   "source": [
    "imageName = 'imageC'\n",
    "\n",
    "image = cv2.cvtColor(cv2.imread(f'{FILES_DIR}/original/{imageName}.bmp'), cv2.COLOR_RGB2GRAY)\n",
    "res, image = cv2.threshold(image, 127, 255, cv2.THRESH_BINARY)\n",
    "\n",
    "print(f'Imagem \"{imageName}\" Original:')\n",
    "showImage(image)\n",
    "\n",
    "structuringElement = [[1, 1, 1, 1, 1, 1, 1, 1, 1, 1, 1, 1, 1]]\n",
    "openingImage = opening(image, structuringElement)\n",
    "\n",
    "print(f'Abertura da Imagem \"{imageName}\" com Elemento Estruturante {structuringElement}:')\n",
    "showSaveImage(openingImage, imageName)"
   ]
  }
 ],
 "metadata": {
  "kernelspec": {
   "display_name": "Python 3",
   "language": "python",
   "name": "python3"
  },
  "language_info": {
   "codemirror_mode": {
    "name": "ipython",
    "version": 3
   },
   "file_extension": ".py",
   "mimetype": "text/x-python",
   "name": "python",
   "nbconvert_exporter": "python",
   "pygments_lexer": "ipython3",
   "version": "3.10.12"
  }
 },
 "nbformat": 4,
 "nbformat_minor": 2
}

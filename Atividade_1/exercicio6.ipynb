{
 "cells": [
  {
   "cell_type": "code",
   "execution_count": 1,
   "metadata": {},
   "outputs": [],
   "source": [
    "import numpy as np\n",
    "import os\n",
    "from PIL import Image\n",
    "\n",
    "FILES_DIR = os.path.abspath('tmp')"
   ]
  },
  {
   "cell_type": "code",
   "execution_count": 2,
   "metadata": {},
   "outputs": [],
   "source": [
    "def getInfo(image):\n",
    "    fixedSize = 100\n",
    "    imageHeight, imageWidth = image.size\n",
    "\n",
    "    imageDepth = 2 ** (np.asarray(image).dtype.itemsize * len(image.getbands()) * 8)\n",
    "    samplingRate = (imageWidth / fixedSize, imageHeight / fixedSize)\n",
    "\n",
    "    return imageDepth, samplingRate\n",
    "\n",
    "def generateStructure(rowBlocks, columnBlocks, blockSize, grayValues):\n",
    "    image = None\n",
    "    gray = 0\n",
    "\n",
    "    for _ in range(rowBlocks):\n",
    "        row = None\n",
    "\n",
    "        for _ in range(columnBlocks):\n",
    "            column = np.full(shape = blockSize, fill_value = grayValues[gray])\n",
    "            row = column if row is None else np.hstack([row, column])\n",
    "\n",
    "            gray += 1\n",
    "\n",
    "        image = row if image is None else np.vstack([image, row])\n",
    "\n",
    "    return image\n",
    "\n",
    "def generateImage(imageName, rowBlocks, columnBlocks, blockSize, grayValues):\n",
    "    image = generateStructure(rowBlocks, columnBlocks, blockSize, grayValues)\n",
    "\n",
    "    if imageName == 'C':\n",
    "        image[52:77, 52:102] = 161\n",
    "        image[52:77, 154:205] = 161\n",
    "\n",
    "        image[179:205, 52:102] = 212\n",
    "        image[179:205, 154:205] = 212\n",
    "\n",
    "    image = Image.fromarray(image.astype(np.uint8), mode = 'L')\n",
    "    image.save(f'{FILES_DIR}/tonsCinza/image{imageName}.bmp')\n",
    "\n",
    "    print(f'Imagem {imageName} (Profundidade, Taxa de Amostragem [px/cm]): {getInfo(image)}')\n",
    "    image.show()"
   ]
  },
  {
   "cell_type": "code",
   "execution_count": 3,
   "metadata": {},
   "outputs": [
    {
     "name": "stdout",
     "output_type": "stream",
     "text": [
      "Imagem A (Profundidade, Taxa de Amostragem [px/cm]): (256, (2.56, 2.56))\n"
     ]
    },
    {
     "data": {
      "image/jpeg": "[encoded data removed]",
      "image/png": "[encoded data removed]",
      "text/plain": [
       "<PIL.Image.Image image mode=L size=256x256>"
      ]
     },
     "metadata": {},
     "output_type": "display_data"
    },
    {
     "name": "stdout",
     "output_type": "stream",
     "text": [
      "Imagem B (Profundidade, Taxa de Amostragem [px/cm]): (256, (2.56, 2.56))\n"
     ]
    },
    {
     "data": {
      "image/jpeg": "[encoded data removed]",
      "image/png": "[encoded data removed]",
      "text/plain": [
       "<PIL.Image.Image image mode=L size=256x256>"
      ]
     },
     "metadata": {},
     "output_type": "display_data"
    },
    {
     "name": "stdout",
     "output_type": "stream",
     "text": [
      "Imagem C (Profundidade, Taxa de Amostragem [px/cm]): (256, (2.56, 2.56))\n"
     ]
    },
    {
     "data": {
      "image/jpeg": "[encoded data removed]",
      "image/png": "[encoded data removed]",
      "text/plain": [
       "<PIL.Image.Image image mode=L size=256x256>"
      ]
     },
     "metadata": {},
     "output_type": "display_data"
    },
    {
     "name": "stdout",
     "output_type": "stream",
     "text": [
      "Imagem D (Profundidade, Taxa de Amostragem [px/cm]): (256, (2.56, 2.56))\n"
     ]
    },
    {
     "data": {
      "image/jpeg": "[encoded data removed]",
      "image/png": "[encoded data removed]",
      "text/plain": [
       "<PIL.Image.Image image mode=L size=256x256>"
      ]
     },
     "metadata": {},
     "output_type": "display_data"
    },
    {
     "name": "stdout",
     "output_type": "stream",
     "text": [
      "Imagem E (Profundidade, Taxa de Amostragem [px/cm]): (256, (2.56, 2.56))\n"
     ]
    },
    {
     "data": {
      "image/jpeg": "[encoded data removed]",
      "image/png": "[encoded data removed]",
      "text/plain": [
       "<PIL.Image.Image image mode=L size=256x256>"
      ]
     },
     "metadata": {},
     "output_type": "display_data"
    }
   ],
   "source": [
    "images = {\n",
    "    'A': [1, 1, (256, 256), [212]],\n",
    "    'B': [2, 1, (128, 256), [212, 161]],\n",
    "    'C': [2, 1, (128, 256), [212, 161]],\n",
    "    'D': [2, 2, (128, 128), [99, 164, 170, 212]],\n",
    "    'E': [4, 4, (64, 64),   [99, 121, 135, 138, 143, 149, 153, 161, 165, 170, 175, 180, 185, 199, 205, 212]]\n",
    "}\n",
    "\n",
    "os.makedirs(f'{FILES_DIR}/tonsCinza/', exist_ok = True)\n",
    "\n",
    "for imageName, imageValues in images.items():\n",
    "    generateImage(\n",
    "        imageName = imageName, \n",
    "        rowBlocks = imageValues[0], \n",
    "        columnBlocks = imageValues[1], \n",
    "        blockSize = imageValues[2], \n",
    "        grayValues = imageValues[3]\n",
    "    )"
   ]
  }
 ],
 "metadata": {
  "kernelspec": {
   "display_name": "Python 3",
   "language": "python",
   "name": "python3"
  },
  "language_info": {
   "codemirror_mode": {
    "name": "ipython",
    "version": 3
   },
   "file_extension": ".py",
   "mimetype": "text/x-python",
   "name": "python",
   "nbconvert_exporter": "python",
   "pygments_lexer": "ipython3",
   "version": "3.10.12"
  }
 },
 "nbformat": 4,
 "nbformat_minor": 2
}

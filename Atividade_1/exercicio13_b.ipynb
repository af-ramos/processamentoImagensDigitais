{
 "cells": [
  {
   "cell_type": "code",
   "execution_count": 1,
   "metadata": {},
   "outputs": [],
   "source": [
    "import numpy as np\n",
    "import random as rd\n",
    "import os\n",
    "\n",
    "FILES_DIR = os.path.abspath('images')"
   ]
  },
  {
   "cell_type": "code",
   "execution_count": 2,
   "metadata": {},
   "outputs": [],
   "source": [
    "def euclideanDistance(pointOne, pointTwo):\n",
    "    xOne, yOne = pointOne\n",
    "    xTwo, yTwo = pointTwo\n",
    "\n",
    "    return ((xOne - xTwo) ** 2 + (yOne - yTwo) ** 2) ** (1 / 2)\n",
    "\n",
    "def cityblockDistance(pointOne, pointTwo):\n",
    "    xOne, yOne = pointOne\n",
    "    xTwo, yTwo = pointTwo\n",
    "\n",
    "    return abs(xOne - xTwo) + abs(yOne - yTwo)\n",
    "\n",
    "def chessboardDistance(pointOne, pointTwo):\n",
    "    xOne, yOne = pointOne\n",
    "    xTwo, yTwo = pointTwo\n",
    "\n",
    "    return max(abs(xOne - xTwo), abs(yOne - yTwo))"
   ]
  },
  {
   "cell_type": "code",
   "execution_count": 3,
   "metadata": {},
   "outputs": [
    {
     "name": "stdout",
     "output_type": "stream",
     "text": [
      "Distância Euclidiana entre 4 (31.5, 95.5) e 15 (223.5, 223.5): 230.7552816296953\n",
      "Distância Cityblock entre 4 (31.5, 95.5) e 15 (223.5, 223.5): 320.0\n",
      "Distância Chessboard entre 4 (31.5, 95.5) e 15 (223.5, 223.5): 192.0\n"
     ]
    }
   ],
   "source": [
    "labeledImage = np.loadtxt(f'{FILES_DIR}/clustersNumeros/imageE.txt', dtype = int)\n",
    "labels = np.unique(labeledImage)\n",
    "\n",
    "clusterOne, clusterTwo = rd.sample(list(labels), k = 2)\n",
    "\n",
    "centerClusterOne = np.argwhere(labeledImage == clusterOne).mean(axis = 0)\n",
    "centerClusterOne = (centerClusterOne[1], centerClusterOne[0])\n",
    "centerClusterTwo = np.argwhere(labeledImage == clusterTwo).mean(axis = 0)\n",
    "centerClusterTwo = (centerClusterTwo[1], centerClusterTwo[0])\n",
    "\n",
    "print(f'Distância Euclidiana entre {clusterOne} {centerClusterOne} e {clusterTwo} {centerClusterTwo}: \\\n",
    "      {euclideanDistance(centerClusterOne, centerClusterTwo)}')\n",
    "print(f'Distância Cityblock entre {clusterOne} {centerClusterOne} e {clusterTwo} {centerClusterTwo}: \\\n",
    "      {cityblockDistance(centerClusterOne, centerClusterTwo)}')\n",
    "print(f'Distância Chessboard entre {clusterOne} {centerClusterOne} e {clusterTwo} {centerClusterTwo}: \\\n",
    "      {chessboardDistance(centerClusterOne, centerClusterTwo)}')"
   ]
  }
 ],
 "metadata": {
  "kernelspec": {
   "display_name": "Python 3",
   "language": "python",
   "name": "python3"
  },
  "language_info": {
   "codemirror_mode": {
    "name": "ipython",
    "version": 3
   },
   "file_extension": ".py",
   "mimetype": "text/x-python",
   "name": "python",
   "nbconvert_exporter": "python",
   "pygments_lexer": "ipython3",
   "version": "3.10.12"
  }
 },
 "nbformat": 4,
 "nbformat_minor": 2
}

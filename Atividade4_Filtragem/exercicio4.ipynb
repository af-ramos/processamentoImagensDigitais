{
 "cells": [
  {
   "cell_type": "code",
   "execution_count": 241,
   "metadata": {},
   "outputs": [],
   "source": [
    "import math as mt\n",
    "import scipy as sc\n",
    "import numpy as np"
   ]
  },
  {
   "cell_type": "code",
   "execution_count": 242,
   "metadata": {},
   "outputs": [],
   "source": [
    "def generatePascalLine(n):\n",
    "    return sc.linalg.pascal(n, kind = 'lower')[-1]\n",
    "\n",
    "def createMask(line):\n",
    "    simplifiedMask = np.outer(line, line)\n",
    "    maskSum = np.sum(simplifiedMask)\n",
    "    realMask = (1 / maskSum) * simplifiedMask\n",
    "\n",
    "    return simplifiedMask, realMask, maskSum\n",
    "\n",
    "def calculateStandardDeviation(n):\n",
    "    return mt.sqrt((n - 1) / 2)"
   ]
  },
  {
   "cell_type": "code",
   "execution_count": 243,
   "metadata": {},
   "outputs": [
    {
     "name": "stdout",
     "output_type": "stream",
     "text": [
      "Tamanho: 3\n",
      "\n",
      "Desvio Padrão: 1.0\n",
      "Multiplicador: 1 / 16 ou 0.0625\n",
      "Máscara (sem multiplicador):\n",
      "[[1 2 1]\n",
      " [2 4 2]\n",
      " [1 2 1]]\n",
      "Máscara (com multiplicador):\n",
      "[[0.0625 0.125  0.0625]\n",
      " [0.125  0.25   0.125 ]\n",
      " [0.0625 0.125  0.0625]] \n",
      "\n",
      "Tamanho: 5\n",
      "\n",
      "Desvio Padrão: 1.4142135623730951\n",
      "Multiplicador: 1 / 256 ou 0.00390625\n",
      "Máscara (sem multiplicador):\n",
      "[[ 1  4  6  4  1]\n",
      " [ 4 16 24 16  4]\n",
      " [ 6 24 36 24  6]\n",
      " [ 4 16 24 16  4]\n",
      " [ 1  4  6  4  1]]\n",
      "Máscara (com multiplicador):\n",
      "[[0.00390625 0.015625   0.0234375  0.015625   0.00390625]\n",
      " [0.015625   0.0625     0.09375    0.0625     0.015625  ]\n",
      " [0.0234375  0.09375    0.140625   0.09375    0.0234375 ]\n",
      " [0.015625   0.0625     0.09375    0.0625     0.015625  ]\n",
      " [0.00390625 0.015625   0.0234375  0.015625   0.00390625]] \n",
      "\n",
      "Tamanho: 7\n",
      "\n",
      "Desvio Padrão: 1.7320508075688772\n",
      "Multiplicador: 1 / 4096 ou 0.000244140625\n",
      "Máscara (sem multiplicador):\n",
      "[[  1   6  15  20  15   6   1]\n",
      " [  6  36  90 120  90  36   6]\n",
      " [ 15  90 225 300 225  90  15]\n",
      " [ 20 120 300 400 300 120  20]\n",
      " [ 15  90 225 300 225  90  15]\n",
      " [  6  36  90 120  90  36   6]\n",
      " [  1   6  15  20  15   6   1]]\n",
      "Máscara (com multiplicador):\n",
      "[[0.00024414 0.00146484 0.00366211 0.00488281 0.00366211 0.00146484\n",
      "  0.00024414]\n",
      " [0.00146484 0.00878906 0.02197266 0.02929688 0.02197266 0.00878906\n",
      "  0.00146484]\n",
      " [0.00366211 0.02197266 0.05493164 0.07324219 0.05493164 0.02197266\n",
      "  0.00366211]\n",
      " [0.00488281 0.02929688 0.07324219 0.09765625 0.07324219 0.02929688\n",
      "  0.00488281]\n",
      " [0.00366211 0.02197266 0.05493164 0.07324219 0.05493164 0.02197266\n",
      "  0.00366211]\n",
      " [0.00146484 0.00878906 0.02197266 0.02929688 0.02197266 0.00878906\n",
      "  0.00146484]\n",
      " [0.00024414 0.00146484 0.00366211 0.00488281 0.00366211 0.00146484\n",
      "  0.00024414]] \n",
      "\n"
     ]
    }
   ],
   "source": [
    "sizes = [3, 5, 7]\n",
    "\n",
    "for size in sizes:\n",
    "    pascalLine = generatePascalLine(size)\n",
    "    simplifiedMask, realMask, maskSum = createMask(pascalLine)\n",
    "    standardDeviation = calculateStandardDeviation(size)\n",
    "\n",
    "    print(f'Tamanho: {size}\\n')\n",
    "    print(f'Desvio Padrão: {standardDeviation}')\n",
    "    print(f'Multiplicador: 1 / {maskSum} ou {1 / maskSum}')\n",
    "    print(f'Máscara (sem multiplicador):\\n{simplifiedMask}')\n",
    "    print(f'Máscara (com multiplicador):\\n{realMask} \\n')"
   ]
  }
 ],
 "metadata": {
  "kernelspec": {
   "display_name": "Python 3",
   "language": "python",
   "name": "python3"
  },
  "language_info": {
   "codemirror_mode": {
    "name": "ipython",
    "version": 3
   },
   "file_extension": ".py",
   "mimetype": "text/x-python",
   "name": "python",
   "nbconvert_exporter": "python",
   "pygments_lexer": "ipython3",
   "version": "3.10.12"
  }
 },
 "nbformat": 4,
 "nbformat_minor": 2
}
